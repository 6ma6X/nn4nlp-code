{
  "nbformat": 4,
  "nbformat_minor": 0,
  "metadata": {
    "colab": {
      "name": "CBOW.ipynb",
      "provenance": [],
      "authorship_tag": "ABX9TyNu/AxobsfNjNJuoilaJeCO",
      "include_colab_link": true
    },
    "kernelspec": {
      "name": "python3",
      "display_name": "Python 3"
    },
    "accelerator": "GPU"
  },
  "cells": [
    {
      "cell_type": "markdown",
      "metadata": {
        "id": "view-in-github",
        "colab_type": "text"
      },
      "source": [
        "<a href=\"https://colab.research.google.com/github/6ma6X/nn4nlp-code/blob/master/CBOW.ipynb\" target=\"_parent\"><img src=\"https://colab.research.google.com/assets/colab-badge.svg\" alt=\"Open In Colab\"/></a>"
      ]
    },
    {
      "cell_type": "code",
      "metadata": {
        "id": "poEKFjG_hHmf",
        "colab_type": "code",
        "colab": {}
      },
      "source": [
        "import torch\n",
        "from torch import nn\n",
        "from torch.autograd import Variable"
      ],
      "execution_count": 1,
      "outputs": []
    },
    {
      "cell_type": "code",
      "metadata": {
        "id": "waVpgCEahPpR",
        "colab_type": "code",
        "colab": {}
      },
      "source": [
        "class CBoW(torch.nn.Module):\n",
        "    # 埋め込みの次元が emb_size、これは nwords とは大きさ異なる\n",
        "    def __init__(self, nwords, ntags, emb_size):\n",
        "        super(CBoW, self).__init__()\n",
        "\n",
        "        self.embedding = nn.Embedding(nwords, emb_size)\n",
        "        nn.init.xavier_uniform_(self.embedding.weight)\n",
        "\n",
        "        # emb_size を nwords に線形変換するのが linear\n",
        "        self.linear = nn.Linear(emb_size, ntags)\n",
        "        nn.init.xavier_uniform_(self.linear.weight)\n",
        "\n",
        "    def forward(self, words):\n",
        "        emb = self.embedding(words)\n",
        "        emb_sum = torch.sum(emb, dim=0) # size(emb_sum) = emb_size\n",
        "        emb_sum = emb_sum.view(1, -1) # size(emb_sum) = 1 x emb_size\n",
        "        out = self.linear(emb_sum) # size(out) = 1 x ntags \n",
        "        return out"
      ],
      "execution_count": 7,
      "outputs": []
    },
    {
      "cell_type": "code",
      "metadata": {
        "id": "Jj2tDa76iJr3",
        "colab_type": "code",
        "colab": {
          "base_uri": "https://localhost:8080/",
          "height": 34
        },
        "outputId": "7ed21184-280f-4cb3-b514-2d85fe7f96b8"
      },
      "source": [
        "torch.cuda.is_available()"
      ],
      "execution_count": 8,
      "outputs": [
        {
          "output_type": "execute_result",
          "data": {
            "text/plain": [
              "True"
            ]
          },
          "metadata": {
            "tags": []
          },
          "execution_count": 8
        }
      ]
    },
    {
      "cell_type": "code",
      "metadata": {
        "id": "1Um_zoPKh_49",
        "colab_type": "code",
        "colab": {
          "base_uri": "https://localhost:8080/",
          "height": 1000
        },
        "outputId": "3ca87ffd-4998-46c6-f8d4-17d43260915d"
      },
      "source": [
        "from collections import defaultdict\n",
        "import time\n",
        "import random\n",
        "import numpy as np\n",
        "\n",
        "# Functions to read in the corpus\n",
        "w2i = defaultdict(lambda: len(w2i))\n",
        "t2i = defaultdict(lambda: len(t2i))\n",
        "UNK = w2i[\"<unk>\"]\n",
        "def read_dataset(filename):\n",
        "    with open(filename, \"r\") as f:\n",
        "        for line in f:\n",
        "            tag, words = line.lower().strip().split(\" ||| \")\n",
        "            yield ([w2i[x] for x in words.split(\" \")], t2i[tag])\n",
        "\n",
        "# Read in the data\n",
        "train = list(read_dataset(\"train.txt\"))\n",
        "w2i = defaultdict(lambda: UNK, w2i)\n",
        "dev = list(read_dataset(\"test.txt\"))\n",
        "nwords = len(w2i)\n",
        "ntags = len(t2i)\n",
        "\n",
        "# initialize the model\n",
        "EMB_SIZE=64\n",
        "model = CBoW(nwords, ntags, EMB_SIZE)\n",
        "criterion = nn.CrossEntropyLoss()\n",
        "optimizer = torch.optim.Adam(model.parameters())\n",
        "\n",
        "type = torch.LongTensor\n",
        "use_cuda = torch.cuda.is_available()\n",
        "\n",
        "if use_cuda:\n",
        "    type = torch.cuda.LongTensor\n",
        "    model.cuda()\n",
        "\n",
        "\n",
        "for ITER in range(100):\n",
        "    # Perform training\n",
        "    random.shuffle(train)\n",
        "    train_loss = 0.0\n",
        "    start = time.time()\n",
        "    for words, tag in train:\n",
        "        words = torch.tensor(words).type(type)\n",
        "        tag = torch.tensor([tag]).type(type)\n",
        "        scores = model(words)\n",
        "        loss = criterion(scores, tag)\n",
        "        train_loss += loss.item()\n",
        "        optimizer.zero_grad()\n",
        "        loss.backward()\n",
        "        optimizer.step()\n",
        "    print(\"iter %r: train loss/sent=%.4f, time=%.2fs\" % (\n",
        "                ITER, train_loss/len(train), time.time()-start))\n",
        "    # Perform testing\n",
        "    test_correct = 0.0\n",
        "    for words, tag in dev:\n",
        "        words = torch.tensor(words).type(type)\n",
        "        scores = model(words)[0].detach().cpu().numpy()\n",
        "        predict = np.argmax(scores)\n",
        "        if predict == tag:\n",
        "            test_correct += 1\n",
        "    print(\"iter %r: test acc=%.4f\" % (ITER, test_correct/len(dev)))"
      ],
      "execution_count": 9,
      "outputs": [
        {
          "output_type": "stream",
          "text": [
            "iter 0: train loss/sent=1.4061, time=8.74s\n",
            "iter 0: test acc=0.3973\n",
            "iter 1: train loss/sent=0.8956, time=8.82s\n",
            "iter 1: test acc=0.4208\n",
            "iter 2: train loss/sent=0.5179, time=8.61s\n",
            "iter 2: test acc=0.3855\n",
            "iter 3: train loss/sent=0.3201, time=8.66s\n",
            "iter 3: test acc=0.3846\n",
            "iter 4: train loss/sent=0.2196, time=8.68s\n",
            "iter 4: test acc=0.3896\n",
            "iter 5: train loss/sent=0.1578, time=8.87s\n",
            "iter 5: test acc=0.3683\n",
            "iter 6: train loss/sent=0.1131, time=8.50s\n",
            "iter 6: test acc=0.3679\n",
            "iter 7: train loss/sent=0.0840, time=8.67s\n",
            "iter 7: test acc=0.3570\n",
            "iter 8: train loss/sent=0.0617, time=8.57s\n",
            "iter 8: test acc=0.3552\n",
            "iter 9: train loss/sent=0.0443, time=8.66s\n",
            "iter 9: test acc=0.3511\n",
            "iter 10: train loss/sent=0.0332, time=8.55s\n",
            "iter 10: test acc=0.3652\n",
            "iter 11: train loss/sent=0.0272, time=8.54s\n",
            "iter 11: test acc=0.3602\n",
            "iter 12: train loss/sent=0.0191, time=8.68s\n",
            "iter 12: test acc=0.3647\n",
            "iter 13: train loss/sent=0.0168, time=8.76s\n",
            "iter 13: test acc=0.3697\n",
            "iter 14: train loss/sent=0.0130, time=8.58s\n",
            "iter 14: test acc=0.3507\n",
            "iter 15: train loss/sent=0.0097, time=8.63s\n",
            "iter 15: test acc=0.3584\n",
            "iter 16: train loss/sent=0.0078, time=8.58s\n",
            "iter 16: test acc=0.3579\n",
            "iter 17: train loss/sent=0.0051, time=8.68s\n",
            "iter 17: test acc=0.3538\n",
            "iter 18: train loss/sent=0.0041, time=8.57s\n",
            "iter 18: test acc=0.3516\n",
            "iter 19: train loss/sent=0.0047, time=8.65s\n",
            "iter 19: test acc=0.3475\n",
            "iter 20: train loss/sent=0.0031, time=8.63s\n",
            "iter 20: test acc=0.3566\n",
            "iter 21: train loss/sent=0.0027, time=8.72s\n",
            "iter 21: test acc=0.3452\n",
            "iter 22: train loss/sent=0.0020, time=8.60s\n",
            "iter 22: test acc=0.3448\n",
            "iter 23: train loss/sent=0.0009, time=8.68s\n",
            "iter 23: test acc=0.3502\n",
            "iter 24: train loss/sent=0.0015, time=9.10s\n",
            "iter 24: test acc=0.3466\n",
            "iter 25: train loss/sent=0.0008, time=8.92s\n",
            "iter 25: test acc=0.3457\n",
            "iter 26: train loss/sent=0.0015, time=8.62s\n",
            "iter 26: test acc=0.3466\n",
            "iter 27: train loss/sent=0.0011, time=8.71s\n",
            "iter 27: test acc=0.3466\n",
            "iter 28: train loss/sent=0.0004, time=8.59s\n",
            "iter 28: test acc=0.3398\n",
            "iter 29: train loss/sent=0.0005, time=8.64s\n",
            "iter 29: test acc=0.3471\n",
            "iter 30: train loss/sent=0.0012, time=8.70s\n",
            "iter 30: test acc=0.3394\n",
            "iter 31: train loss/sent=0.0004, time=8.65s\n",
            "iter 31: test acc=0.3493\n",
            "iter 32: train loss/sent=0.0003, time=8.57s\n",
            "iter 32: test acc=0.3425\n",
            "iter 33: train loss/sent=0.0003, time=8.61s\n",
            "iter 33: test acc=0.3615\n",
            "iter 34: train loss/sent=0.0010, time=8.60s\n",
            "iter 34: test acc=0.3543\n",
            "iter 35: train loss/sent=0.0001, time=8.67s\n",
            "iter 35: test acc=0.3543\n",
            "iter 36: train loss/sent=0.0001, time=8.54s\n",
            "iter 36: test acc=0.3484\n",
            "iter 37: train loss/sent=0.0000, time=8.55s\n",
            "iter 37: test acc=0.3452\n",
            "iter 38: train loss/sent=0.0000, time=8.81s\n",
            "iter 38: test acc=0.3430\n",
            "iter 39: train loss/sent=0.0000, time=8.79s\n",
            "iter 39: test acc=0.3511\n",
            "iter 40: train loss/sent=0.0000, time=8.58s\n",
            "iter 40: test acc=0.3439\n",
            "iter 41: train loss/sent=0.0000, time=8.56s\n",
            "iter 41: test acc=0.3466\n",
            "iter 42: train loss/sent=0.0000, time=8.60s\n",
            "iter 42: test acc=0.3385\n",
            "iter 43: train loss/sent=0.0000, time=8.71s\n",
            "iter 43: test acc=0.3407\n",
            "iter 44: train loss/sent=0.0000, time=8.53s\n",
            "iter 44: test acc=0.3457\n",
            "iter 45: train loss/sent=0.0000, time=8.52s\n",
            "iter 45: test acc=0.3498\n"
          ],
          "name": "stdout"
        },
        {
          "output_type": "error",
          "ename": "KeyboardInterrupt",
          "evalue": "ignored",
          "traceback": [
            "\u001b[0;31m---------------------------------------------------------------------------\u001b[0m",
            "\u001b[0;31mKeyboardInterrupt\u001b[0m                         Traceback (most recent call last)",
            "\u001b[0;32m<ipython-input-9-fc70569a6642>\u001b[0m in \u001b[0;36m<module>\u001b[0;34m()\u001b[0m\n\u001b[1;32m     47\u001b[0m         \u001b[0mtrain_loss\u001b[0m \u001b[0;34m+=\u001b[0m \u001b[0mloss\u001b[0m\u001b[0;34m.\u001b[0m\u001b[0mitem\u001b[0m\u001b[0;34m(\u001b[0m\u001b[0;34m)\u001b[0m\u001b[0;34m\u001b[0m\u001b[0;34m\u001b[0m\u001b[0m\n\u001b[1;32m     48\u001b[0m         \u001b[0moptimizer\u001b[0m\u001b[0;34m.\u001b[0m\u001b[0mzero_grad\u001b[0m\u001b[0;34m(\u001b[0m\u001b[0;34m)\u001b[0m\u001b[0;34m\u001b[0m\u001b[0;34m\u001b[0m\u001b[0m\n\u001b[0;32m---> 49\u001b[0;31m         \u001b[0mloss\u001b[0m\u001b[0;34m.\u001b[0m\u001b[0mbackward\u001b[0m\u001b[0;34m(\u001b[0m\u001b[0;34m)\u001b[0m\u001b[0;34m\u001b[0m\u001b[0;34m\u001b[0m\u001b[0m\n\u001b[0m\u001b[1;32m     50\u001b[0m         \u001b[0moptimizer\u001b[0m\u001b[0;34m.\u001b[0m\u001b[0mstep\u001b[0m\u001b[0;34m(\u001b[0m\u001b[0;34m)\u001b[0m\u001b[0;34m\u001b[0m\u001b[0;34m\u001b[0m\u001b[0m\n\u001b[1;32m     51\u001b[0m     print(\"iter %r: train loss/sent=%.4f, time=%.2fs\" % (\n",
            "\u001b[0;32m/usr/local/lib/python3.6/dist-packages/torch/tensor.py\u001b[0m in \u001b[0;36mbackward\u001b[0;34m(self, gradient, retain_graph, create_graph)\u001b[0m\n\u001b[1;32m    183\u001b[0m                 \u001b[0mproducts\u001b[0m\u001b[0;34m.\u001b[0m \u001b[0mDefaults\u001b[0m \u001b[0mto\u001b[0m\u001b[0;31m \u001b[0m\u001b[0;31m`\u001b[0m\u001b[0;31m`\u001b[0m\u001b[0;32mFalse\u001b[0m\u001b[0;31m`\u001b[0m\u001b[0;31m`\u001b[0m\u001b[0;34m.\u001b[0m\u001b[0;34m\u001b[0m\u001b[0;34m\u001b[0m\u001b[0m\n\u001b[1;32m    184\u001b[0m         \"\"\"\n\u001b[0;32m--> 185\u001b[0;31m         \u001b[0mtorch\u001b[0m\u001b[0;34m.\u001b[0m\u001b[0mautograd\u001b[0m\u001b[0;34m.\u001b[0m\u001b[0mbackward\u001b[0m\u001b[0;34m(\u001b[0m\u001b[0mself\u001b[0m\u001b[0;34m,\u001b[0m \u001b[0mgradient\u001b[0m\u001b[0;34m,\u001b[0m \u001b[0mretain_graph\u001b[0m\u001b[0;34m,\u001b[0m \u001b[0mcreate_graph\u001b[0m\u001b[0;34m)\u001b[0m\u001b[0;34m\u001b[0m\u001b[0;34m\u001b[0m\u001b[0m\n\u001b[0m\u001b[1;32m    186\u001b[0m \u001b[0;34m\u001b[0m\u001b[0m\n\u001b[1;32m    187\u001b[0m     \u001b[0;32mdef\u001b[0m \u001b[0mregister_hook\u001b[0m\u001b[0;34m(\u001b[0m\u001b[0mself\u001b[0m\u001b[0;34m,\u001b[0m \u001b[0mhook\u001b[0m\u001b[0;34m)\u001b[0m\u001b[0;34m:\u001b[0m\u001b[0;34m\u001b[0m\u001b[0;34m\u001b[0m\u001b[0m\n",
            "\u001b[0;32m/usr/local/lib/python3.6/dist-packages/torch/autograd/__init__.py\u001b[0m in \u001b[0;36mbackward\u001b[0;34m(tensors, grad_tensors, retain_graph, create_graph, grad_variables)\u001b[0m\n\u001b[1;32m    125\u001b[0m     Variable._execution_engine.run_backward(\n\u001b[1;32m    126\u001b[0m         \u001b[0mtensors\u001b[0m\u001b[0;34m,\u001b[0m \u001b[0mgrad_tensors\u001b[0m\u001b[0;34m,\u001b[0m \u001b[0mretain_graph\u001b[0m\u001b[0;34m,\u001b[0m \u001b[0mcreate_graph\u001b[0m\u001b[0;34m,\u001b[0m\u001b[0;34m\u001b[0m\u001b[0;34m\u001b[0m\u001b[0m\n\u001b[0;32m--> 127\u001b[0;31m         allow_unreachable=True)  # allow_unreachable flag\n\u001b[0m\u001b[1;32m    128\u001b[0m \u001b[0;34m\u001b[0m\u001b[0m\n\u001b[1;32m    129\u001b[0m \u001b[0;34m\u001b[0m\u001b[0m\n",
            "\u001b[0;31mKeyboardInterrupt\u001b[0m: "
          ]
        }
      ]
    },
    {
      "cell_type": "code",
      "metadata": {
        "id": "Ym_NpFw3iV5L",
        "colab_type": "code",
        "colab": {}
      },
      "source": [
        "class DeepCBoW(torch.nn.Module):\n",
        "    # nalyers でレイヤー数指定\n",
        "    # hid_size は隠れ層の次元\n",
        "    def __init__(self, nwords, ntags, nlayers, emb_size, hid_size):\n",
        "        super(DeepCBoW, self).__init__()\n",
        "\n",
        "        \"\"\" variables \"\"\"\n",
        "        self.nlayers = nlayers\n",
        "\n",
        "        \"\"\" layers \"\"\"\n",
        "        self.embedding = nn.Embedding(nwords, emb_size)\n",
        "        # initialize the weights with xavier uniform (Glorot, X. & Bengio, Y. (2010))\n",
        "        nn.init.xavier_uniform_(self.embedding.weight)\n",
        "\n",
        "        # add nlayers number of layers\n",
        "        # 最初だけ（埋め込み次元数, 隠れ層）, あとは（隠れ層, 隠れ層）\n",
        "        self.linears = nn.ModuleList([\n",
        "                nn.Linear(emb_size if i == 0 else hid_size, hid_size) \\\n",
        "                for i in range(nlayers)])\n",
        "        # initialize the weights with xavier uniform (Glorot, X. & Bengio, Y. (2010))\n",
        "        for i in range(nlayers):\n",
        "            nn.init.xavier_uniform_(self.linears[i].weight)\n",
        "\n",
        "        # （隠れ層, タグ）\n",
        "        self.output_layer = nn.Linear(hid_size, ntags)\n",
        "        # initialize the weights with xavier uniform (Glorot, X. & Bengio, Y. (2010))\n",
        "        nn.init.xavier_uniform_(self.output_layer.weight)\n",
        "\n",
        "    def forward(self, words):\n",
        "        emb = self.embedding(words)\n",
        "        emb_sum = torch.sum(emb, dim=0) # size(emb_sum) = emb_size\n",
        "        h = emb_sum.view(1, -1) # size(h) = 1 x emb_size\n",
        "        for i in range(self.nlayers):\n",
        "            h = torch.tanh(self.linears[i](h))\n",
        "        out = self.output_layer(h)\n",
        "        return out"
      ],
      "execution_count": 10,
      "outputs": []
    },
    {
      "cell_type": "code",
      "metadata": {
        "id": "aXbx18_rkkmu",
        "colab_type": "code",
        "colab": {
          "base_uri": "https://localhost:8080/",
          "height": 651
        },
        "outputId": "04d08374-529d-4ff1-ba4a-973338b5274b"
      },
      "source": [
        "# initialize the model\n",
        "EMB_SIZE = 64    # 埋め込み次元\n",
        "HID_SIZE = 64    # 隠れ層\n",
        "NLAYERS = 2      # 隠れ層レイヤー数\n",
        "model = DeepCBoW(nwords, ntags, NLAYERS, EMB_SIZE, HID_SIZE)\n",
        "criterion = nn.CrossEntropyLoss()\n",
        "optimizer = torch.optim.Adam(model.parameters())\n",
        "\n",
        "type = torch.LongTensor\n",
        "use_cuda = torch.cuda.is_available()\n",
        "\n",
        "if use_cuda:\n",
        "    type = torch.cuda.LongTensor\n",
        "    model.cuda()\n",
        "\n",
        "\n",
        "for ITER in range(100):\n",
        "    # Perform training\n",
        "    random.shuffle(train)\n",
        "    train_loss = 0.0\n",
        "    start = time.time()\n",
        "    for words, tag in train:\n",
        "        words = torch.tensor(words).type(type)\n",
        "        tag = torch.tensor([tag]).type(type)\n",
        "        scores = model(words)\n",
        "        loss = criterion(scores, tag)\n",
        "        train_loss += loss.item()\n",
        "        optimizer.zero_grad()\n",
        "        loss.backward()\n",
        "        optimizer.step()\n",
        "    print(\"iter %r: train loss/sent=%.4f, time=%.2fs\" % (\n",
        "                ITER, train_loss/len(train), time.time()-start))\n",
        "    # Perform testing\n",
        "    test_correct = 0.0\n",
        "    for words, tag in dev:\n",
        "        words = torch.tensor(words).type(type)\n",
        "        scores = model(words)[0].detach().cpu().numpy()\n",
        "        predict = np.argmax(scores)\n",
        "        if predict == tag:\n",
        "            test_correct += 1\n",
        "    print(\"iter %r: test acc=%.4f\" % (ITER, test_correct/len(dev)))"
      ],
      "execution_count": 12,
      "outputs": [
        {
          "output_type": "stream",
          "text": [
            "iter 0: train loss/sent=1.4326, time=14.54s\n",
            "iter 0: test acc=0.3665\n",
            "iter 1: train loss/sent=1.0194, time=14.27s\n",
            "iter 1: test acc=0.3982\n",
            "iter 2: train loss/sent=0.6498, time=14.41s\n",
            "iter 2: test acc=0.3919\n",
            "iter 3: train loss/sent=0.3950, time=14.29s\n",
            "iter 3: test acc=0.3688\n",
            "iter 4: train loss/sent=0.2503, time=14.16s\n",
            "iter 4: test acc=0.3751\n",
            "iter 5: train loss/sent=0.1676, time=14.32s\n",
            "iter 5: test acc=0.3742\n",
            "iter 6: train loss/sent=0.1107, time=14.38s\n",
            "iter 6: test acc=0.3783\n",
            "iter 7: train loss/sent=0.0710, time=14.33s\n",
            "iter 7: test acc=0.3756\n"
          ],
          "name": "stdout"
        },
        {
          "output_type": "error",
          "ename": "KeyboardInterrupt",
          "evalue": "ignored",
          "traceback": [
            "\u001b[0;31m---------------------------------------------------------------------------\u001b[0m",
            "\u001b[0;31mKeyboardInterrupt\u001b[0m                         Traceback (most recent call last)",
            "\u001b[0;32m<ipython-input-12-8a9c302dbe8e>\u001b[0m in \u001b[0;36m<module>\u001b[0;34m()\u001b[0m\n\u001b[1;32m     27\u001b[0m         \u001b[0mtrain_loss\u001b[0m \u001b[0;34m+=\u001b[0m \u001b[0mloss\u001b[0m\u001b[0;34m.\u001b[0m\u001b[0mitem\u001b[0m\u001b[0;34m(\u001b[0m\u001b[0;34m)\u001b[0m\u001b[0;34m\u001b[0m\u001b[0;34m\u001b[0m\u001b[0m\n\u001b[1;32m     28\u001b[0m         \u001b[0moptimizer\u001b[0m\u001b[0;34m.\u001b[0m\u001b[0mzero_grad\u001b[0m\u001b[0;34m(\u001b[0m\u001b[0;34m)\u001b[0m\u001b[0;34m\u001b[0m\u001b[0;34m\u001b[0m\u001b[0m\n\u001b[0;32m---> 29\u001b[0;31m         \u001b[0mloss\u001b[0m\u001b[0;34m.\u001b[0m\u001b[0mbackward\u001b[0m\u001b[0;34m(\u001b[0m\u001b[0;34m)\u001b[0m\u001b[0;34m\u001b[0m\u001b[0;34m\u001b[0m\u001b[0m\n\u001b[0m\u001b[1;32m     30\u001b[0m         \u001b[0moptimizer\u001b[0m\u001b[0;34m.\u001b[0m\u001b[0mstep\u001b[0m\u001b[0;34m(\u001b[0m\u001b[0;34m)\u001b[0m\u001b[0;34m\u001b[0m\u001b[0;34m\u001b[0m\u001b[0m\n\u001b[1;32m     31\u001b[0m     print(\"iter %r: train loss/sent=%.4f, time=%.2fs\" % (\n",
            "\u001b[0;32m/usr/local/lib/python3.6/dist-packages/torch/tensor.py\u001b[0m in \u001b[0;36mbackward\u001b[0;34m(self, gradient, retain_graph, create_graph)\u001b[0m\n\u001b[1;32m    183\u001b[0m                 \u001b[0mproducts\u001b[0m\u001b[0;34m.\u001b[0m \u001b[0mDefaults\u001b[0m \u001b[0mto\u001b[0m\u001b[0;31m \u001b[0m\u001b[0;31m`\u001b[0m\u001b[0;31m`\u001b[0m\u001b[0;32mFalse\u001b[0m\u001b[0;31m`\u001b[0m\u001b[0;31m`\u001b[0m\u001b[0;34m.\u001b[0m\u001b[0;34m\u001b[0m\u001b[0;34m\u001b[0m\u001b[0m\n\u001b[1;32m    184\u001b[0m         \"\"\"\n\u001b[0;32m--> 185\u001b[0;31m         \u001b[0mtorch\u001b[0m\u001b[0;34m.\u001b[0m\u001b[0mautograd\u001b[0m\u001b[0;34m.\u001b[0m\u001b[0mbackward\u001b[0m\u001b[0;34m(\u001b[0m\u001b[0mself\u001b[0m\u001b[0;34m,\u001b[0m \u001b[0mgradient\u001b[0m\u001b[0;34m,\u001b[0m \u001b[0mretain_graph\u001b[0m\u001b[0;34m,\u001b[0m \u001b[0mcreate_graph\u001b[0m\u001b[0;34m)\u001b[0m\u001b[0;34m\u001b[0m\u001b[0;34m\u001b[0m\u001b[0m\n\u001b[0m\u001b[1;32m    186\u001b[0m \u001b[0;34m\u001b[0m\u001b[0m\n\u001b[1;32m    187\u001b[0m     \u001b[0;32mdef\u001b[0m \u001b[0mregister_hook\u001b[0m\u001b[0;34m(\u001b[0m\u001b[0mself\u001b[0m\u001b[0;34m,\u001b[0m \u001b[0mhook\u001b[0m\u001b[0;34m)\u001b[0m\u001b[0;34m:\u001b[0m\u001b[0;34m\u001b[0m\u001b[0;34m\u001b[0m\u001b[0m\n",
            "\u001b[0;32m/usr/local/lib/python3.6/dist-packages/torch/autograd/__init__.py\u001b[0m in \u001b[0;36mbackward\u001b[0;34m(tensors, grad_tensors, retain_graph, create_graph, grad_variables)\u001b[0m\n\u001b[1;32m    125\u001b[0m     Variable._execution_engine.run_backward(\n\u001b[1;32m    126\u001b[0m         \u001b[0mtensors\u001b[0m\u001b[0;34m,\u001b[0m \u001b[0mgrad_tensors\u001b[0m\u001b[0;34m,\u001b[0m \u001b[0mretain_graph\u001b[0m\u001b[0;34m,\u001b[0m \u001b[0mcreate_graph\u001b[0m\u001b[0;34m,\u001b[0m\u001b[0;34m\u001b[0m\u001b[0;34m\u001b[0m\u001b[0m\n\u001b[0;32m--> 127\u001b[0;31m         allow_unreachable=True)  # allow_unreachable flag\n\u001b[0m\u001b[1;32m    128\u001b[0m \u001b[0;34m\u001b[0m\u001b[0m\n\u001b[1;32m    129\u001b[0m \u001b[0;34m\u001b[0m\u001b[0m\n",
            "\u001b[0;31mKeyboardInterrupt\u001b[0m: "
          ]
        }
      ]
    },
    {
      "cell_type": "code",
      "metadata": {
        "id": "Ms9mKm1Qkppe",
        "colab_type": "code",
        "colab": {}
      },
      "source": [
        ""
      ],
      "execution_count": null,
      "outputs": []
    }
  ]
}