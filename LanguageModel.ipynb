{
  "nbformat": 4,
  "nbformat_minor": 0,
  "metadata": {
    "colab": {
      "name": "LanguageModel.ipynb",
      "provenance": [],
      "authorship_tag": "ABX9TyOwycS5HF+7k70MOwThRhYj",
      "include_colab_link": true
    },
    "kernelspec": {
      "name": "python3",
      "display_name": "Python 3"
    },
    "accelerator": "GPU"
  },
  "cells": [
    {
      "cell_type": "markdown",
      "metadata": {
        "id": "view-in-github",
        "colab_type": "text"
      },
      "source": [
        "<a href=\"https://colab.research.google.com/github/6ma6X/nn4nlp-code/blob/master/LanguageModel.ipynb\" target=\"_parent\"><img src=\"https://colab.research.google.com/assets/colab-badge.svg\" alt=\"Open In Colab\"/></a>"
      ]
    },
    {
      "cell_type": "code",
      "metadata": {
        "id": "fx_oCZ4jl7nd",
        "colab_type": "code",
        "colab": {}
      },
      "source": [
        "from collections import defaultdict\n",
        "import math\n",
        "import time\n",
        "import random\n",
        "import os, sys\n",
        "\n",
        "import torch\n",
        "import torch.nn as nn\n",
        "from torch.autograd import Variable"
      ],
      "execution_count": 11,
      "outputs": []
    },
    {
      "cell_type": "code",
      "metadata": {
        "id": "McCjbNK0mGK4",
        "colab_type": "code",
        "colab": {}
      },
      "source": [
        "class FNN_LM(nn.Module):\n",
        "    # nwords: 総単語数\n",
        "    # emb_size: 埋め込み次元\n",
        "    # hid_size: 隠れ層次元\n",
        "    # num_hist: 前のいくつの単語から予測するか\n",
        "    # dropout: dropout の割合\n",
        "    def __init__(self, nwords, emb_size, hid_size, num_hist, dropout):\n",
        "        super(FNN_LM, self).__init__()\n",
        "        self.embedding = nn.Embedding(nwords, emb_size)\n",
        "        self.fnn = nn.Sequential(\n",
        "        nn.Linear(num_hist*emb_size, hid_size), nn.Tanh(),\n",
        "        nn.Dropout(dropout),\n",
        "        nn.Linear(hid_size, nwords)\n",
        "        )\n",
        "\n",
        "    def forward(self, words):\n",
        "        emb = self.embedding(words)      # 3D Tensor of size [batch_size x num_hist x emb_size]\n",
        "        feat = emb.view(emb.size(0), -1) # 2D Tensor of size [batch_size x (num_hist*emb_size)]\n",
        "        logit = self.fnn(feat)           # 2D Tensor of size [batch_size x nwords]\n",
        "\n",
        "        return logit"
      ],
      "execution_count": 14,
      "outputs": []
    },
    {
      "cell_type": "code",
      "metadata": {
        "id": "Ef9jLzwJpgY8",
        "colab_type": "code",
        "colab": {
          "base_uri": "https://localhost:8080/",
          "height": 528
        },
        "outputId": "72ae67fd-310f-49c1-8c32-a76abfb65055"
      },
      "source": [
        "N = 2 # The length of the n-gram\n",
        "EMB_SIZE = 128 # The size of the embedding\n",
        "HID_SIZE = 128 # The size of the hidden layer\n",
        "\n",
        "USE_CUDA = torch.cuda.is_available()\n",
        "\n",
        "# Functions to read in the corpus\n",
        "# NOTE: We are using data from the Penn Treebank, which is already converted\n",
        "#       into an easy-to-use format with \"<unk>\" symbols. If we were using other\n",
        "#       data we would have to do pre-processing and consider how to choose\n",
        "#       unknown words, etc.\n",
        "w2i = defaultdict(lambda: len(w2i))\n",
        "S = w2i[\"<s>\"]\n",
        "UNK = w2i[\"<unk>\"]\n",
        "def read_dataset(filename):\n",
        "  with open(filename, \"r\") as f:\n",
        "    for line in f:\n",
        "      yield [w2i[x] for x in line.strip().split(\" \")]\n",
        "\n",
        "# Read in the data\n",
        "train = list(read_dataset(\"train.txt\"))\n",
        "w2i = defaultdict(lambda: UNK, w2i)\n",
        "dev = list(read_dataset(\"valid.txt\"))\n",
        "i2w = {v: k for k, v in w2i.items()}\n",
        "nwords = len(w2i)\n",
        "\n",
        "# Initialize the model and the optimizer\n",
        "model = FNN_LM(nwords=nwords, emb_size=EMB_SIZE, hid_size=HID_SIZE, num_hist=N, dropout=0.2)\n",
        "if USE_CUDA:\n",
        "  model = model.cuda()\n",
        "optimizer = torch.optim.Adam(model.parameters(), lr=0.001)\n",
        "\n",
        "# convert a (nested) list of int into a pytorch Variable\n",
        "def convert_to_variable(words):\n",
        "  var = Variable(torch.LongTensor(words))\n",
        "  if USE_CUDA:\n",
        "    var = var.cuda()\n",
        "\n",
        "  return var\n",
        "\n",
        "# A function to calculate scores for one value\n",
        "def calc_score_of_histories(words):\n",
        "  # This will change from a list of histories, to a pytorch Variable whose data type is LongTensor\n",
        "  words_var = convert_to_variable(words)\n",
        "  logits = model(words_var)\n",
        "  return logits\n",
        "\n",
        "# Calculate the loss value for the entire sentence\n",
        "def calc_sent_loss(sent):\n",
        "  # The initial history is equal to end of sentence symbols\n",
        "  hist = [S] * N\n",
        "  # Step through the sentence, including the end of sentence token\n",
        "  all_histories = []\n",
        "  all_targets = []\n",
        "  for next_word in sent + [S]:\n",
        "    all_histories.append(list(hist))\n",
        "    all_targets.append(next_word)\n",
        "    hist = hist[1:] + [next_word]\n",
        "\n",
        "  logits = calc_score_of_histories(all_histories)\n",
        "  loss = nn.functional.cross_entropy(logits, convert_to_variable(all_targets), size_average=False)\n",
        "\n",
        "  return loss\n",
        "\n",
        "MAX_LEN = 100\n",
        "# Generate a sentence\n",
        "def generate_sent():\n",
        "  hist = [S] * N\n",
        "  sent = []\n",
        "  while True:\n",
        "    logits = calc_score_of_histories([hist])\n",
        "    prob = nn.functional.softmax(logits)\n",
        "    next_word = prob.multinomial(10).data[0,0]\n",
        "    if next_word == S or len(sent) == MAX_LEN:\n",
        "      break\n",
        "    sent.append(next_word)\n",
        "    hist = hist[1:] + [next_word]\n",
        "  return sent\n",
        "\n",
        "last_dev = 1e20\n",
        "best_dev = 1e20\n",
        "\n",
        "for ITER in range(5):\n",
        "  # Perform training\n",
        "  random.shuffle(train)\n",
        "  # set the model to training mode\n",
        "  model.train()\n",
        "  train_words, train_loss = 0, 0.0\n",
        "  start = time.time()\n",
        "  for sent_id, sent in enumerate(train):\n",
        "    my_loss = calc_sent_loss(sent)\n",
        "    train_loss += my_loss.data.item()\n",
        "    train_words += len(sent)\n",
        "    optimizer.zero_grad()\n",
        "    my_loss.backward()\n",
        "    optimizer.step()\n",
        "    if (sent_id+1) % 5000 == 0:\n",
        "      print(\"--finished %r sentences (word/sec=%.2f)\" % (sent_id+1, train_words/(time.time()-start)))\n",
        "  print(\"iter %r: train loss/word=%.4f, ppl=%.4f (word/sec=%.2f)\" % (ITER, train_loss/train_words, math.exp(train_loss/train_words), train_words/(time.time()-start)))\n",
        "  \n",
        "  # Evaluate on dev set\n",
        "  # set the model to evaluation mode\n",
        "  model.eval()\n",
        "  dev_words, dev_loss = 0, 0.0\n",
        "  start = time.time()\n",
        "  for sent_id, sent in enumerate(dev):\n",
        "    my_loss = calc_sent_loss(sent)\n",
        "    dev_loss += my_loss.data.item()\n",
        "    dev_words += len(sent)\n",
        "\n",
        "  # Keep track of the development accuracy and reduce the learning rate if it got worse\n",
        "  if last_dev < dev_loss:\n",
        "    optimizer.learning_rate /= 2\n",
        "  last_dev = dev_loss\n",
        "  \n",
        "  # Keep track of the best development accuracy, and save the model only if it's the best one\n",
        "  if best_dev > dev_loss:\n",
        "    torch.save(model, \"model.pt\")\n",
        "    best_dev = dev_loss\n",
        "  \n",
        "  # Save the model\n",
        "  print(\"iter %r: dev loss/word=%.4f, ppl=%.4f (word/sec=%.2f)\" % (ITER, dev_loss/dev_words, math.exp(dev_loss/dev_words), dev_words/(time.time()-start)))\n",
        "  \n",
        "  # Generate a few sentences\n",
        "  for _ in range(5):\n",
        "    sent = generate_sent()\n",
        "    print(\" \".join([i2w[x] for x in sent]))"
      ],
      "execution_count": 19,
      "outputs": [
        {
          "output_type": "stream",
          "text": [
            "/usr/local/lib/python3.6/dist-packages/torch/nn/_reduction.py:44: UserWarning: size_average and reduce args will be deprecated, please use reduction='sum' instead.\n",
            "  warnings.warn(warning.format(ret))\n"
          ],
          "name": "stderr"
        },
        {
          "output_type": "stream",
          "text": [
            "--finished 5000 sentences (word/sec=6511.75)\n",
            "--finished 10000 sentences (word/sec=6572.85)\n",
            "--finished 15000 sentences (word/sec=6573.56)\n",
            "--finished 20000 sentences (word/sec=6581.12)\n",
            "--finished 25000 sentences (word/sec=6590.20)\n",
            "--finished 30000 sentences (word/sec=6594.10)\n",
            "--finished 35000 sentences (word/sec=6590.33)\n",
            "--finished 40000 sentences (word/sec=6597.22)\n",
            "iter 0: train loss/word=6.2583, ppl=522.3457 (word/sec=6597.91)\n",
            "iter 0: dev loss/word=5.8742, ppl=355.7402 (word/sec=29892.49)\n"
          ],
          "name": "stdout"
        },
        {
          "output_type": "stream",
          "text": [
            "/usr/local/lib/python3.6/dist-packages/ipykernel_launcher.py:72: UserWarning: Implicit dimension choice for softmax has been deprecated. Change the call to include dim=X as an argument.\n"
          ],
          "name": "stderr"
        },
        {
          "output_type": "error",
          "ename": "KeyError",
          "evalue": "ignored",
          "traceback": [
            "\u001b[0;31m---------------------------------------------------------------------------\u001b[0m",
            "\u001b[0;31mKeyError\u001b[0m                                  Traceback (most recent call last)",
            "\u001b[0;32m<ipython-input-19-3c1287598194>\u001b[0m in \u001b[0;36m<module>\u001b[0;34m()\u001b[0m\n\u001b[1;32m    125\u001b[0m   \u001b[0;32mfor\u001b[0m \u001b[0m_\u001b[0m \u001b[0;32min\u001b[0m \u001b[0mrange\u001b[0m\u001b[0;34m(\u001b[0m\u001b[0;36m5\u001b[0m\u001b[0;34m)\u001b[0m\u001b[0;34m:\u001b[0m\u001b[0;34m\u001b[0m\u001b[0;34m\u001b[0m\u001b[0m\n\u001b[1;32m    126\u001b[0m     \u001b[0msent\u001b[0m \u001b[0;34m=\u001b[0m \u001b[0mgenerate_sent\u001b[0m\u001b[0;34m(\u001b[0m\u001b[0;34m)\u001b[0m\u001b[0;34m\u001b[0m\u001b[0;34m\u001b[0m\u001b[0m\n\u001b[0;32m--> 127\u001b[0;31m     \u001b[0mprint\u001b[0m\u001b[0;34m(\u001b[0m\u001b[0;34m\" \"\u001b[0m\u001b[0;34m.\u001b[0m\u001b[0mjoin\u001b[0m\u001b[0;34m(\u001b[0m\u001b[0;34m[\u001b[0m\u001b[0mi2w\u001b[0m\u001b[0;34m[\u001b[0m\u001b[0mx\u001b[0m\u001b[0;34m]\u001b[0m \u001b[0;32mfor\u001b[0m \u001b[0mx\u001b[0m \u001b[0;32min\u001b[0m \u001b[0msent\u001b[0m\u001b[0;34m]\u001b[0m\u001b[0;34m)\u001b[0m\u001b[0;34m)\u001b[0m\u001b[0;34m\u001b[0m\u001b[0;34m\u001b[0m\u001b[0m\n\u001b[0m",
            "\u001b[0;32m<ipython-input-19-3c1287598194>\u001b[0m in \u001b[0;36m<listcomp>\u001b[0;34m(.0)\u001b[0m\n\u001b[1;32m    125\u001b[0m   \u001b[0;32mfor\u001b[0m \u001b[0m_\u001b[0m \u001b[0;32min\u001b[0m \u001b[0mrange\u001b[0m\u001b[0;34m(\u001b[0m\u001b[0;36m5\u001b[0m\u001b[0;34m)\u001b[0m\u001b[0;34m:\u001b[0m\u001b[0;34m\u001b[0m\u001b[0;34m\u001b[0m\u001b[0m\n\u001b[1;32m    126\u001b[0m     \u001b[0msent\u001b[0m \u001b[0;34m=\u001b[0m \u001b[0mgenerate_sent\u001b[0m\u001b[0;34m(\u001b[0m\u001b[0;34m)\u001b[0m\u001b[0;34m\u001b[0m\u001b[0;34m\u001b[0m\u001b[0m\n\u001b[0;32m--> 127\u001b[0;31m     \u001b[0mprint\u001b[0m\u001b[0;34m(\u001b[0m\u001b[0;34m\" \"\u001b[0m\u001b[0;34m.\u001b[0m\u001b[0mjoin\u001b[0m\u001b[0;34m(\u001b[0m\u001b[0;34m[\u001b[0m\u001b[0mi2w\u001b[0m\u001b[0;34m[\u001b[0m\u001b[0mx\u001b[0m\u001b[0;34m]\u001b[0m \u001b[0;32mfor\u001b[0m \u001b[0mx\u001b[0m \u001b[0;32min\u001b[0m \u001b[0msent\u001b[0m\u001b[0;34m]\u001b[0m\u001b[0;34m)\u001b[0m\u001b[0;34m)\u001b[0m\u001b[0;34m\u001b[0m\u001b[0;34m\u001b[0m\u001b[0m\n\u001b[0m",
            "\u001b[0;31mKeyError\u001b[0m: tensor(307, device='cuda:0')"
          ]
        }
      ]
    },
    {
      "cell_type": "code",
      "metadata": {
        "id": "kBDD_gRfpidO",
        "colab_type": "code",
        "colab": {}
      },
      "source": [
        ""
      ],
      "execution_count": null,
      "outputs": []
    }
  ]
}